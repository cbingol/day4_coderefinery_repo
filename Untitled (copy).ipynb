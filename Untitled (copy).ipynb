{
 "cells": [
  {
   "cell_type": "code",
   "execution_count": 1,
   "id": "9b22be11-bb10-440e-b2e0-310b492c4232",
   "metadata": {},
   "outputs": [],
   "source": [
    "import pytest\n",
    "import temperature_plotting as tpl\n",
    "import os"
   ]
  },
  {
   "cell_type": "code",
   "execution_count": 2,
   "id": "5b701579-b44c-421b-b997-ba29d345577a",
   "metadata": {},
   "outputs": [
    {
     "name": "stdout",
     "output_type": "stream",
     "text": [
      "calc1 = 10.0\n",
      "calc2 = 0.0\n",
      "calc3 = 3.3333333333333335\n"
     ]
    }
   ],
   "source": [
    "def test_compute_mean():\n",
    "    calc = tpl.compute_mean([0, 10, 20])\n",
    "    assert calc == 10 # test if the answer is the expected\n",
    "    assert type(calc) == float # test if the type of the answer is the one expeced\n",
    "    print(f\"calc1 = {calc}\")\n",
    "    \n",
    "    calc = tpl.compute_mean([-10, 10])\n",
    "    print(f\"calc2 = {calc}\")\n",
    "    assert calc == 0 # test special cases (negative numbers)\n",
    "\n",
    "    calc = tpl.compute_mean([0,10,0])\n",
    "    # assert calc == 3.33 # this would fail\n",
    "    print(f\"calc3 = {calc}\")\n",
    "    assert round(calc,4) == 3.3333, \"Check that the average is roughly correct\" # displays a message if an error\n",
    "    \n",
    "    with pytest.raises(TypeError) as e: # asserts that this particular error type will occur\n",
    "        calc = tpl.compute_mean([\"a\", \"b\", \"c\"]) # this will fail, because the function does not work with strings\n",
    "    assert not e == None, \"We should not be able to average strings\"\n",
    "    \n",
    "    # calc = tpl.compute_mean([])\n",
    "    # assert calc == None # this failed in original function definition\n",
    "    \n",
    "test_compute_mean()"
   ]
  },
  {
   "cell_type": "code",
   "execution_count": 3,
   "id": "0ac90c4c-ae78-4246-8b54-18dea893368e",
   "metadata": {},
   "outputs": [],
   "source": [
    "# write a test for following function\n",
    "# until 10:00\n",
    "\n",
    "# use multiple inputs, and verify their output\n",
    "# write different kinds of assertions\n",
    "# include a test for an error\n",
    "\n",
    "# def create_name(num):\n",
    "#     \"\"\"Create a name for png output file\n",
    "\n",
    "#     Args:\n",
    "#         num(int): Number of the output\n",
    "\n",
    "#     Returns:\n",
    "#         name(str): A name for the output png file\n",
    "#     \"\"\"\n",
    "#     name = f\"plot_{str(num)}.png\"\n",
    "#     return name # return the name (string) to main code\n",
    "\n",
    "# def test_create_name():\n",
    "#     \"\"\" \n",
    "#     This function tests if create_name function works properly\n",
    "#     \"\"\"\n",
    "#     name = tpl.create_name(5)\n",
    "#     assert name == \"plot_5.png\"\n",
    "    \n",
    "#     name = tpl.create_name(-5)\n",
    "#     assert name == \"plot_-5.png\"\n",
    "    \n",
    "#     name = tpl.create_name()\n",
    "#     assert name == None\n",
    "    \n",
    "    \n",
    "\n",
    "# test_create_name()\n",
    "\n"
   ]
  },
  {
   "cell_type": "code",
   "execution_count": 4,
   "id": "d974a0b8-b36d-4f19-a9e5-136c27aef56f",
   "metadata": {},
   "outputs": [
    {
     "name": "stdout",
     "output_type": "stream",
     "text": [
      "did it finish\n"
     ]
    }
   ],
   "source": [
    "# integration test\n",
    "def test_main():\n",
    "    tpl.main()\n",
    "    assert os.path.exist(\"plot_25\")\n",
    "print(\"did it finish\")"
   ]
  }
 ],
 "metadata": {
  "kernelspec": {
   "display_name": "Python 3 (ipykernel)",
   "language": "python",
   "name": "python3"
  },
  "language_info": {
   "codemirror_mode": {
    "name": "ipython",
    "version": 3
   },
   "file_extension": ".py",
   "mimetype": "text/x-python",
   "name": "python",
   "nbconvert_exporter": "python",
   "pygments_lexer": "ipython3",
   "version": "3.10.8"
  }
 },
 "nbformat": 4,
 "nbformat_minor": 5
}
